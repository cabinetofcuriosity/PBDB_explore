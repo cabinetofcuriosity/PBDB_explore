{
 "cells": [
  {
   "cell_type": "markdown",
   "metadata": {},
   "source": [
    "# Introduction"
   ]
  },
  {
   "cell_type": "markdown",
   "metadata": {},
   "source": [
    "**Ciera**: For this introduction, explain why you switched to Python. What benefit did you have from using Python?\n",
    "This is a python notebook about the analyzing of our interested species. I decide to switch to Python because I am more familiar to its syntax and python is more like a prograaming language compared with R so maybe python codes are more extensible and having more chance to be applied in more fields."
   ]
  },
  {
   "cell_type": "code",
   "execution_count": 2,
   "metadata": {},
   "outputs": [],
   "source": [
    "## **Ciera**: Do we need all these \"assert\" lines?\n",
    "\n",
    "import pandas as pd\n",
    "import matplotlib.pyplot as plt\n",
    "import seaborn as sns\n",
    "import pandas as pd\n",
    "import numpy as np\n",
    "import math as math\n",
    "from pylab import rcParams\n",
    "import csv\n",
    "import zipfile\n",
    "import sys\n",
    "assert 'zipfile'in sys.modules\n",
    "assert 'pandas'in sys.modules and pd\n",
    "assert 'numpy'in sys.modules and np\n",
    "assert 'matplotlib'in sys.modules and plt\n",
    "assert 'seaborn'in sys.modules and sns\n",
    "import io \n",
    "from pandas.io.json import json_normalize\n",
    "import json\n",
    "import re\n",
    "import warnings\n",
    "warnings.filterwarnings('ignore')"
   ]
  },
  {
   "cell_type": "markdown",
   "metadata": {},
   "source": [
    "**Ciera**: Explain where you left off and what this dinosaur data is.  "
   ]
  },
  {
   "cell_type": "code",
   "execution_count": 3,
   "metadata": {},
   "outputs": [
    {
     "data": {
      "text/html": [
       "<div>\n",
       "<style scoped>\n",
       "    .dataframe tbody tr th:only-of-type {\n",
       "        vertical-align: middle;\n",
       "    }\n",
       "\n",
       "    .dataframe tbody tr th {\n",
       "        vertical-align: top;\n",
       "    }\n",
       "\n",
       "    .dataframe thead th {\n",
       "        text-align: right;\n",
       "    }\n",
       "</style>\n",
       "<table border=\"1\" class=\"dataframe\">\n",
       "  <thead>\n",
       "    <tr style=\"text-align: right;\">\n",
       "      <th></th>\n",
       "      <th>Unnamed: 0</th>\n",
       "      <th>occurrence_no</th>\n",
       "      <th>record_type</th>\n",
       "      <th>collection_no</th>\n",
       "      <th>taxon_name</th>\n",
       "      <th>taxon_rank</th>\n",
       "      <th>taxon_no</th>\n",
       "      <th>matched_name</th>\n",
       "      <th>matched_rank</th>\n",
       "      <th>matched_no</th>\n",
       "      <th>...</th>\n",
       "      <th>genus</th>\n",
       "      <th>genus_no</th>\n",
       "      <th>family</th>\n",
       "      <th>family_no</th>\n",
       "      <th>order</th>\n",
       "      <th>order_no</th>\n",
       "      <th>species_reso</th>\n",
       "      <th>genus_reso</th>\n",
       "      <th>subgenus_name</th>\n",
       "      <th>subgenus_reso</th>\n",
       "    </tr>\n",
       "  </thead>\n",
       "  <tbody>\n",
       "    <tr>\n",
       "      <th>0</th>\n",
       "      <td>1:1</td>\n",
       "      <td>41524</td>\n",
       "      <td>occurrence</td>\n",
       "      <td>3257</td>\n",
       "      <td>Aves indet.</td>\n",
       "      <td>class</td>\n",
       "      <td>36616</td>\n",
       "      <td>Aves</td>\n",
       "      <td>class</td>\n",
       "      <td>36616</td>\n",
       "      <td>...</td>\n",
       "      <td>NaN</td>\n",
       "      <td>NaN</td>\n",
       "      <td>NaN</td>\n",
       "      <td>NaN</td>\n",
       "      <td>NaN</td>\n",
       "      <td>NaN</td>\n",
       "      <td>NaN</td>\n",
       "      <td>NaN</td>\n",
       "      <td>NaN</td>\n",
       "      <td>NaN</td>\n",
       "    </tr>\n",
       "    <tr>\n",
       "      <th>1</th>\n",
       "      <td>1:2</td>\n",
       "      <td>41580</td>\n",
       "      <td>occurrence</td>\n",
       "      <td>3256</td>\n",
       "      <td>Aves indet.</td>\n",
       "      <td>class</td>\n",
       "      <td>36616</td>\n",
       "      <td>Aves</td>\n",
       "      <td>class</td>\n",
       "      <td>36616</td>\n",
       "      <td>...</td>\n",
       "      <td>NaN</td>\n",
       "      <td>NaN</td>\n",
       "      <td>NaN</td>\n",
       "      <td>NaN</td>\n",
       "      <td>NaN</td>\n",
       "      <td>NaN</td>\n",
       "      <td>NaN</td>\n",
       "      <td>NaN</td>\n",
       "      <td>NaN</td>\n",
       "      <td>NaN</td>\n",
       "    </tr>\n",
       "    <tr>\n",
       "      <th>2</th>\n",
       "      <td>1:3</td>\n",
       "      <td>139242</td>\n",
       "      <td>occurrence</td>\n",
       "      <td>11890</td>\n",
       "      <td>Gorgosaurus sternbergi n. sp.</td>\n",
       "      <td>species</td>\n",
       "      <td>63900</td>\n",
       "      <td>Gorgosaurus libratus</td>\n",
       "      <td>species</td>\n",
       "      <td>53194</td>\n",
       "      <td>...</td>\n",
       "      <td>Gorgosaurus</td>\n",
       "      <td>53193.0</td>\n",
       "      <td>Tyrannosauridae</td>\n",
       "      <td>38606.0</td>\n",
       "      <td>Avetheropoda</td>\n",
       "      <td>55483.0</td>\n",
       "      <td>n. sp.</td>\n",
       "      <td>NaN</td>\n",
       "      <td>NaN</td>\n",
       "      <td>NaN</td>\n",
       "    </tr>\n",
       "    <tr>\n",
       "      <th>3</th>\n",
       "      <td>1:4</td>\n",
       "      <td>139249</td>\n",
       "      <td>occurrence</td>\n",
       "      <td>11892</td>\n",
       "      <td>Hadrosauridae indet.</td>\n",
       "      <td>family</td>\n",
       "      <td>38755</td>\n",
       "      <td>Hadrosauridae</td>\n",
       "      <td>family</td>\n",
       "      <td>38755</td>\n",
       "      <td>...</td>\n",
       "      <td>NaN</td>\n",
       "      <td>NaN</td>\n",
       "      <td>Hadrosauridae</td>\n",
       "      <td>38755.0</td>\n",
       "      <td>NaN</td>\n",
       "      <td>NaN</td>\n",
       "      <td>NaN</td>\n",
       "      <td>NaN</td>\n",
       "      <td>NaN</td>\n",
       "      <td>NaN</td>\n",
       "    </tr>\n",
       "    <tr>\n",
       "      <th>4</th>\n",
       "      <td>1:5</td>\n",
       "      <td>139250</td>\n",
       "      <td>occurrence</td>\n",
       "      <td>11893</td>\n",
       "      <td>Gorgosaurus libratus</td>\n",
       "      <td>species</td>\n",
       "      <td>53194</td>\n",
       "      <td>Gorgosaurus libratus</td>\n",
       "      <td>species</td>\n",
       "      <td>53194</td>\n",
       "      <td>...</td>\n",
       "      <td>Gorgosaurus</td>\n",
       "      <td>53193.0</td>\n",
       "      <td>Tyrannosauridae</td>\n",
       "      <td>38606.0</td>\n",
       "      <td>Avetheropoda</td>\n",
       "      <td>55483.0</td>\n",
       "      <td>NaN</td>\n",
       "      <td>NaN</td>\n",
       "      <td>NaN</td>\n",
       "      <td>NaN</td>\n",
       "    </tr>\n",
       "  </tbody>\n",
       "</table>\n",
       "<p>5 rows × 34 columns</p>\n",
       "</div>"
      ],
      "text/plain": [
       "  Unnamed: 0  occurrence_no record_type  collection_no  \\\n",
       "0        1:1          41524  occurrence           3257   \n",
       "1        1:2          41580  occurrence           3256   \n",
       "2        1:3         139242  occurrence          11890   \n",
       "3        1:4         139249  occurrence          11892   \n",
       "4        1:5         139250  occurrence          11893   \n",
       "\n",
       "                      taxon_name taxon_rank  taxon_no          matched_name  \\\n",
       "0                    Aves indet.      class     36616                  Aves   \n",
       "1                    Aves indet.      class     36616                  Aves   \n",
       "2  Gorgosaurus sternbergi n. sp.    species     63900  Gorgosaurus libratus   \n",
       "3           Hadrosauridae indet.     family     38755         Hadrosauridae   \n",
       "4           Gorgosaurus libratus    species     53194  Gorgosaurus libratus   \n",
       "\n",
       "  matched_rank  matched_no      ...             genus genus_no  \\\n",
       "0        class       36616      ...               NaN      NaN   \n",
       "1        class       36616      ...               NaN      NaN   \n",
       "2      species       53194      ...       Gorgosaurus  53193.0   \n",
       "3       family       38755      ...               NaN      NaN   \n",
       "4      species       53194      ...       Gorgosaurus  53193.0   \n",
       "\n",
       "            family  family_no         order  order_no  species_reso  \\\n",
       "0              NaN        NaN           NaN       NaN           NaN   \n",
       "1              NaN        NaN           NaN       NaN           NaN   \n",
       "2  Tyrannosauridae    38606.0  Avetheropoda   55483.0        n. sp.   \n",
       "3    Hadrosauridae    38755.0           NaN       NaN           NaN   \n",
       "4  Tyrannosauridae    38606.0  Avetheropoda   55483.0           NaN   \n",
       "\n",
       "  genus_reso  subgenus_name subgenus_reso  \n",
       "0        NaN            NaN           NaN  \n",
       "1        NaN            NaN           NaN  \n",
       "2        NaN            NaN           NaN  \n",
       "3        NaN            NaN           NaN  \n",
       "4        NaN            NaN           NaN  \n",
       "\n",
       "[5 rows x 34 columns]"
      ]
     },
     "execution_count": 3,
     "metadata": {},
     "output_type": "execute_result"
    }
   ],
   "source": [
    "result = pd.read_csv('../data/output/dinasourdata.csv')\n",
    "result.head()"
   ]
  },
  {
   "cell_type": "code",
   "execution_count": 4,
   "metadata": {},
   "outputs": [
    {
     "data": {
      "text/html": [
       "<div>\n",
       "<style scoped>\n",
       "    .dataframe tbody tr th:only-of-type {\n",
       "        vertical-align: middle;\n",
       "    }\n",
       "\n",
       "    .dataframe tbody tr th {\n",
       "        vertical-align: top;\n",
       "    }\n",
       "\n",
       "    .dataframe thead th {\n",
       "        text-align: right;\n",
       "    }\n",
       "</style>\n",
       "<table border=\"1\" class=\"dataframe\">\n",
       "  <thead>\n",
       "    <tr style=\"text-align: right;\">\n",
       "      <th></th>\n",
       "      <th>occurrence_no</th>\n",
       "      <th>collection_no</th>\n",
       "      <th>taxon_no</th>\n",
       "      <th>matched_no</th>\n",
       "      <th>early_age</th>\n",
       "      <th>late_age</th>\n",
       "      <th>lng</th>\n",
       "      <th>lat</th>\n",
       "      <th>class_no</th>\n",
       "      <th>phylum_no</th>\n",
       "      <th>reid_no</th>\n",
       "      <th>genus_no</th>\n",
       "      <th>family_no</th>\n",
       "      <th>order_no</th>\n",
       "    </tr>\n",
       "  </thead>\n",
       "  <tbody>\n",
       "    <tr>\n",
       "      <th>count</th>\n",
       "      <td>1.871500e+04</td>\n",
       "      <td>18715.000000</td>\n",
       "      <td>18715.000000</td>\n",
       "      <td>18715.000000</td>\n",
       "      <td>18715.000000</td>\n",
       "      <td>18715.000000</td>\n",
       "      <td>18715.000000</td>\n",
       "      <td>18715.000000</td>\n",
       "      <td>18715.000000</td>\n",
       "      <td>18715.0</td>\n",
       "      <td>1387.000000</td>\n",
       "      <td>14084.000000</td>\n",
       "      <td>17388.000000</td>\n",
       "      <td>13147.000000</td>\n",
       "    </tr>\n",
       "    <tr>\n",
       "      <th>mean</th>\n",
       "      <td>1.007908e+06</td>\n",
       "      <td>110472.344697</td>\n",
       "      <td>169625.440930</td>\n",
       "      <td>172071.922896</td>\n",
       "      <td>40.873736</td>\n",
       "      <td>36.166955</td>\n",
       "      <td>-30.678170</td>\n",
       "      <td>23.549320</td>\n",
       "      <td>37294.415496</td>\n",
       "      <td>33815.0</td>\n",
       "      <td>26163.681327</td>\n",
       "      <td>122283.058506</td>\n",
       "      <td>56928.825224</td>\n",
       "      <td>63197.061991</td>\n",
       "    </tr>\n",
       "    <tr>\n",
       "      <th>std</th>\n",
       "      <td>3.943022e+05</td>\n",
       "      <td>67243.271137</td>\n",
       "      <td>140674.254198</td>\n",
       "      <td>142051.482106</td>\n",
       "      <td>51.961096</td>\n",
       "      <td>47.543049</td>\n",
       "      <td>95.074028</td>\n",
       "      <td>30.264978</td>\n",
       "      <td>946.499271</td>\n",
       "      <td>0.0</td>\n",
       "      <td>7574.357368</td>\n",
       "      <td>116781.612520</td>\n",
       "      <td>61621.603388</td>\n",
       "      <td>73172.916779</td>\n",
       "    </tr>\n",
       "    <tr>\n",
       "      <th>min</th>\n",
       "      <td>4.152400e+04</td>\n",
       "      <td>3256.000000</td>\n",
       "      <td>36610.000000</td>\n",
       "      <td>36610.000000</td>\n",
       "      <td>0.011700</td>\n",
       "      <td>0.000000</td>\n",
       "      <td>-179.154999</td>\n",
       "      <td>-84.333336</td>\n",
       "      <td>36616.000000</td>\n",
       "      <td>33815.0</td>\n",
       "      <td>10065.000000</td>\n",
       "      <td>34625.000000</td>\n",
       "      <td>38539.000000</td>\n",
       "      <td>36617.000000</td>\n",
       "    </tr>\n",
       "    <tr>\n",
       "      <th>25%</th>\n",
       "      <td>6.041835e+05</td>\n",
       "      <td>49797.000000</td>\n",
       "      <td>39581.000000</td>\n",
       "      <td>39532.500000</td>\n",
       "      <td>0.126000</td>\n",
       "      <td>0.011700</td>\n",
       "      <td>-108.397202</td>\n",
       "      <td>14.135000</td>\n",
       "      <td>36616.000000</td>\n",
       "      <td>33815.0</td>\n",
       "      <td>18922.500000</td>\n",
       "      <td>39409.000000</td>\n",
       "      <td>38817.000000</td>\n",
       "      <td>39306.000000</td>\n",
       "    </tr>\n",
       "    <tr>\n",
       "      <th>50%</th>\n",
       "      <td>1.171016e+06</td>\n",
       "      <td>93374.000000</td>\n",
       "      <td>94492.000000</td>\n",
       "      <td>94501.000000</td>\n",
       "      <td>4.900000</td>\n",
       "      <td>1.806000</td>\n",
       "      <td>-74.550003</td>\n",
       "      <td>36.290001</td>\n",
       "      <td>36616.000000</td>\n",
       "      <td>33815.0</td>\n",
       "      <td>28475.000000</td>\n",
       "      <td>67686.000000</td>\n",
       "      <td>39445.000000</td>\n",
       "      <td>39441.000000</td>\n",
       "    </tr>\n",
       "    <tr>\n",
       "      <th>75%</th>\n",
       "      <td>1.403886e+06</td>\n",
       "      <td>192632.500000</td>\n",
       "      <td>367722.000000</td>\n",
       "      <td>368018.000000</td>\n",
       "      <td>83.500000</td>\n",
       "      <td>70.600000</td>\n",
       "      <td>24.261944</td>\n",
       "      <td>43.581945</td>\n",
       "      <td>38505.000000</td>\n",
       "      <td>33815.0</td>\n",
       "      <td>33113.500000</td>\n",
       "      <td>143791.000000</td>\n",
       "      <td>39656.000000</td>\n",
       "      <td>39706.000000</td>\n",
       "    </tr>\n",
       "    <tr>\n",
       "      <th>max</th>\n",
       "      <td>1.439352e+06</td>\n",
       "      <td>200705.000000</td>\n",
       "      <td>384927.000000</td>\n",
       "      <td>384927.000000</td>\n",
       "      <td>247.200000</td>\n",
       "      <td>242.000000</td>\n",
       "      <td>178.677002</td>\n",
       "      <td>89.039169</td>\n",
       "      <td>38712.000000</td>\n",
       "      <td>33815.0</td>\n",
       "      <td>35700.000000</td>\n",
       "      <td>384926.000000</td>\n",
       "      <td>384373.000000</td>\n",
       "      <td>379220.000000</td>\n",
       "    </tr>\n",
       "  </tbody>\n",
       "</table>\n",
       "</div>"
      ],
      "text/plain": [
       "       occurrence_no  collection_no       taxon_no     matched_no  \\\n",
       "count   1.871500e+04   18715.000000   18715.000000   18715.000000   \n",
       "mean    1.007908e+06  110472.344697  169625.440930  172071.922896   \n",
       "std     3.943022e+05   67243.271137  140674.254198  142051.482106   \n",
       "min     4.152400e+04    3256.000000   36610.000000   36610.000000   \n",
       "25%     6.041835e+05   49797.000000   39581.000000   39532.500000   \n",
       "50%     1.171016e+06   93374.000000   94492.000000   94501.000000   \n",
       "75%     1.403886e+06  192632.500000  367722.000000  368018.000000   \n",
       "max     1.439352e+06  200705.000000  384927.000000  384927.000000   \n",
       "\n",
       "          early_age      late_age           lng           lat      class_no  \\\n",
       "count  18715.000000  18715.000000  18715.000000  18715.000000  18715.000000   \n",
       "mean      40.873736     36.166955    -30.678170     23.549320  37294.415496   \n",
       "std       51.961096     47.543049     95.074028     30.264978    946.499271   \n",
       "min        0.011700      0.000000   -179.154999    -84.333336  36616.000000   \n",
       "25%        0.126000      0.011700   -108.397202     14.135000  36616.000000   \n",
       "50%        4.900000      1.806000    -74.550003     36.290001  36616.000000   \n",
       "75%       83.500000     70.600000     24.261944     43.581945  38505.000000   \n",
       "max      247.200000    242.000000    178.677002     89.039169  38712.000000   \n",
       "\n",
       "       phylum_no       reid_no       genus_no      family_no       order_no  \n",
       "count    18715.0   1387.000000   14084.000000   17388.000000   13147.000000  \n",
       "mean     33815.0  26163.681327  122283.058506   56928.825224   63197.061991  \n",
       "std          0.0   7574.357368  116781.612520   61621.603388   73172.916779  \n",
       "min      33815.0  10065.000000   34625.000000   38539.000000   36617.000000  \n",
       "25%      33815.0  18922.500000   39409.000000   38817.000000   39306.000000  \n",
       "50%      33815.0  28475.000000   67686.000000   39445.000000   39441.000000  \n",
       "75%      33815.0  33113.500000  143791.000000   39656.000000   39706.000000  \n",
       "max      33815.0  35700.000000  384926.000000  384373.000000  379220.000000  "
      ]
     },
     "execution_count": 4,
     "metadata": {},
     "output_type": "execute_result"
    }
   ],
   "source": [
    "## Cleaning\n",
    "result = result.drop(result.columns[0], axis = 1)\n",
    "result.describe()\n"
   ]
  },
  {
   "cell_type": "code",
   "execution_count": 5,
   "metadata": {},
   "outputs": [
    {
     "data": {
      "text/plain": [
       "['occurrence_no',\n",
       " 'record_type',\n",
       " 'collection_no',\n",
       " 'taxon_name',\n",
       " 'taxon_rank',\n",
       " 'taxon_no',\n",
       " 'matched_name',\n",
       " 'matched_rank',\n",
       " 'matched_no',\n",
       " 'early_interval',\n",
       " 'late_interval',\n",
       " 'early_age',\n",
       " 'late_age',\n",
       " 'reference_no',\n",
       " 'lng',\n",
       " 'lat',\n",
       " 'class',\n",
       " 'class_no',\n",
       " 'phylum',\n",
       " 'phylum_no',\n",
       " 'genus_name',\n",
       " 'species_name',\n",
       " 'reid_no',\n",
       " 'genus',\n",
       " 'genus_no',\n",
       " 'family',\n",
       " 'family_no',\n",
       " 'order',\n",
       " 'order_no',\n",
       " 'species_reso',\n",
       " 'genus_reso',\n",
       " 'subgenus_name',\n",
       " 'subgenus_reso']"
      ]
     },
     "execution_count": 5,
     "metadata": {},
     "output_type": "execute_result"
    }
   ],
   "source": [
    "# List all the column headers\n",
    "list(result)"
   ]
  },
  {
   "cell_type": "code",
   "execution_count": 6,
   "metadata": {},
   "outputs": [],
   "source": [
    "#new = result[['occurrence_no','t'axon_name','early_age','late_age']]"
   ]
  },
  {
   "cell_type": "markdown",
   "metadata": {},
   "source": [
    "Read the Tyrannosauridae csv so we can manipulate the data in a pandas dataframe"
   ]
  },
  {
   "cell_type": "code",
   "execution_count": 7,
   "metadata": {},
   "outputs": [
    {
     "data": {
      "text/html": [
       "<div>\n",
       "<style scoped>\n",
       "    .dataframe tbody tr th:only-of-type {\n",
       "        vertical-align: middle;\n",
       "    }\n",
       "\n",
       "    .dataframe tbody tr th {\n",
       "        vertical-align: top;\n",
       "    }\n",
       "\n",
       "    .dataframe thead th {\n",
       "        text-align: right;\n",
       "    }\n",
       "</style>\n",
       "<table border=\"1\" class=\"dataframe\">\n",
       "  <thead>\n",
       "    <tr style=\"text-align: right;\">\n",
       "      <th></th>\n",
       "      <th>early_interval</th>\n",
       "      <th>late_interval</th>\n",
       "      <th>early_age</th>\n",
       "      <th>late_age</th>\n",
       "      <th>reference_no</th>\n",
       "      <th>lng</th>\n",
       "    </tr>\n",
       "  </thead>\n",
       "  <tbody>\n",
       "    <tr>\n",
       "      <th>0</th>\n",
       "      <td>Late Campanian</td>\n",
       "      <td>NaN</td>\n",
       "      <td>83.5</td>\n",
       "      <td>70.6</td>\n",
       "      <td>13165;13165</td>\n",
       "      <td>-111.528732</td>\n",
       "    </tr>\n",
       "    <tr>\n",
       "      <th>1</th>\n",
       "      <td>Late Campanian</td>\n",
       "      <td>NaN</td>\n",
       "      <td>83.5</td>\n",
       "      <td>70.6</td>\n",
       "      <td>4205;4205</td>\n",
       "      <td>-111.549347</td>\n",
       "    </tr>\n",
       "    <tr>\n",
       "      <th>2</th>\n",
       "      <td>Late Campanian</td>\n",
       "      <td>NaN</td>\n",
       "      <td>83.5</td>\n",
       "      <td>70.6</td>\n",
       "      <td>4205;4205</td>\n",
       "      <td>-111.564636</td>\n",
       "    </tr>\n",
       "    <tr>\n",
       "      <th>3</th>\n",
       "      <td>Late Campanian</td>\n",
       "      <td>NaN</td>\n",
       "      <td>83.5</td>\n",
       "      <td>70.6</td>\n",
       "      <td>4205;4205</td>\n",
       "      <td>-111.525337</td>\n",
       "    </tr>\n",
       "    <tr>\n",
       "      <th>4</th>\n",
       "      <td>Late Campanian</td>\n",
       "      <td>NaN</td>\n",
       "      <td>83.5</td>\n",
       "      <td>70.6</td>\n",
       "      <td>17547;17547</td>\n",
       "      <td>-111.601021</td>\n",
       "    </tr>\n",
       "  </tbody>\n",
       "</table>\n",
       "</div>"
      ],
      "text/plain": [
       "   early_interval late_interval  early_age  late_age reference_no         lng\n",
       "0  Late Campanian           NaN       83.5      70.6  13165;13165 -111.528732\n",
       "1  Late Campanian           NaN       83.5      70.6    4205;4205 -111.549347\n",
       "2  Late Campanian           NaN       83.5      70.6    4205;4205 -111.564636\n",
       "3  Late Campanian           NaN       83.5      70.6    4205;4205 -111.525337\n",
       "4  Late Campanian           NaN       83.5      70.6  17547;17547 -111.601021"
      ]
     },
     "execution_count": 7,
     "metadata": {},
     "output_type": "execute_result"
    }
   ],
   "source": [
    "Tyrannosauridae = pd.read_csv('../data/output/Tyrannosauridae.csv')\n",
    "Tyrannosauridae = Tyrannosauridae.drop(Tyrannosauridae.columns[0], axis = 1)\n",
    "Tyrannosauridae_time = Tyrannosauridae[['early_interval','late_interval','early_age','late_age','reference_no','lng']]\n",
    "Tyrannosauridae_time.head()"
   ]
  },
  {
   "cell_type": "markdown",
   "metadata": {},
   "source": [
    "Read the Dromaeosauridae csv so we can manipulate the data in a pandas dataframe. With the head funcion to show a glance into the data."
   ]
  },
  {
   "cell_type": "code",
   "execution_count": 10,
   "metadata": {},
   "outputs": [
    {
     "data": {
      "text/html": [
       "<div>\n",
       "<style scoped>\n",
       "    .dataframe tbody tr th:only-of-type {\n",
       "        vertical-align: middle;\n",
       "    }\n",
       "\n",
       "    .dataframe tbody tr th {\n",
       "        vertical-align: top;\n",
       "    }\n",
       "\n",
       "    .dataframe thead th {\n",
       "        text-align: right;\n",
       "    }\n",
       "</style>\n",
       "<table border=\"1\" class=\"dataframe\">\n",
       "  <thead>\n",
       "    <tr style=\"text-align: right;\">\n",
       "      <th></th>\n",
       "      <th>early_interval</th>\n",
       "      <th>late_interval</th>\n",
       "      <th>early_age</th>\n",
       "      <th>late_age</th>\n",
       "      <th>reference_no</th>\n",
       "      <th>lng</th>\n",
       "    </tr>\n",
       "  </thead>\n",
       "  <tbody>\n",
       "    <tr>\n",
       "      <th>0</th>\n",
       "      <td>Late Maastrichtian</td>\n",
       "      <td>NaN</td>\n",
       "      <td>70.6</td>\n",
       "      <td>66.0</td>\n",
       "      <td>4002;4002</td>\n",
       "      <td>21.049999</td>\n",
       "    </tr>\n",
       "    <tr>\n",
       "      <th>1</th>\n",
       "      <td>Late Campanian</td>\n",
       "      <td>NaN</td>\n",
       "      <td>83.5</td>\n",
       "      <td>70.6</td>\n",
       "      <td>5721;5721</td>\n",
       "      <td>-111.524582</td>\n",
       "    </tr>\n",
       "    <tr>\n",
       "      <th>2</th>\n",
       "      <td>Late Campanian</td>\n",
       "      <td>NaN</td>\n",
       "      <td>83.5</td>\n",
       "      <td>70.6</td>\n",
       "      <td>63431;63431</td>\n",
       "      <td>103.333336</td>\n",
       "    </tr>\n",
       "    <tr>\n",
       "      <th>3</th>\n",
       "      <td>Aptian</td>\n",
       "      <td>NaN</td>\n",
       "      <td>125.0</td>\n",
       "      <td>113.0</td>\n",
       "      <td>7600;7600</td>\n",
       "      <td>-98.476303</td>\n",
       "    </tr>\n",
       "    <tr>\n",
       "      <th>4</th>\n",
       "      <td>Middle Campanian</td>\n",
       "      <td>Late Campanian</td>\n",
       "      <td>83.5</td>\n",
       "      <td>70.6</td>\n",
       "      <td>13591;13591</td>\n",
       "      <td>-109.297203</td>\n",
       "    </tr>\n",
       "  </tbody>\n",
       "</table>\n",
       "</div>"
      ],
      "text/plain": [
       "       early_interval   late_interval  early_age  late_age reference_no  \\\n",
       "0  Late Maastrichtian             NaN       70.6      66.0    4002;4002   \n",
       "1      Late Campanian             NaN       83.5      70.6    5721;5721   \n",
       "2      Late Campanian             NaN       83.5      70.6  63431;63431   \n",
       "3              Aptian             NaN      125.0     113.0    7600;7600   \n",
       "4    Middle Campanian  Late Campanian       83.5      70.6  13591;13591   \n",
       "\n",
       "          lng  \n",
       "0   21.049999  \n",
       "1 -111.524582  \n",
       "2  103.333336  \n",
       "3  -98.476303  \n",
       "4 -109.297203  "
      ]
     },
     "execution_count": 10,
     "metadata": {},
     "output_type": "execute_result"
    }
   ],
   "source": [
    "Dromaeosauridae = pd.read_csv('../data/output/Dromaeosauridae.csv')\n",
    "Dromaeosauridae = Dromaeosauridae.drop(Dromaeosauridae.columns[0], axis = 1)\n",
    "Dromaeosauridae_time = Dromaeosauridae[['early_interval','late_interval','early_age','late_age','reference_no','lng']]\n",
    "Dromaeosauridae_time.head()"
   ]
  },
  {
   "cell_type": "code",
   "execution_count": 15,
   "metadata": {},
   "outputs": [
    {
     "data": {
      "text/plain": [
       "<matplotlib.axes._subplots.AxesSubplot at 0x1a257f08d0>"
      ]
     },
     "execution_count": 15,
     "metadata": {},
     "output_type": "execute_result"
    },
    {
     "data": {
      "image/png": "[encoded data removed]",
      "text/plain": [
       "<Figure size 432x288 with 1 Axes>"
      ]
     },
     "metadata": {
      "needs_background": "light"
     },
     "output_type": "display_data"
    }
   ],
   "source": [
    "Tyrannosauridae_time['early_age'].value_counts().sort_index().plot.bar()"
   ]
  },
  {
   "cell_type": "code",
   "execution_count": 17,
   "metadata": {},
   "outputs": [
    {
     "data": {
      "text/plain": [
       "<matplotlib.axes._subplots.AxesSubplot at 0x1a25d6f5f8>"
      ]
     },
     "execution_count": 17,
     "metadata": {},
     "output_type": "execute_result"
    },
    {
     "data": {
      "image/png": "[encoded data removed]",
      "text/plain": [
       "<Figure size 432x288 with 1 Axes>"
      ]
     },
     "metadata": {
      "needs_background": "light"
     },
     "output_type": "display_data"
    }
   ],
   "source": [
    "Dromaeosauridae_time['early_age'].value_counts().sort_index().plot.bar()"
   ]
  },
  {
   "cell_type": "markdown",
   "metadata": {},
   "source": [
    "We can see that these two kinds of dinasours both occured most frequently from 83.5 million years ago to 70.6 million years ago, roughly late Cretaceous. For more information of geological time periods, this link(https://en.wikipedia.org/wiki/Geologic_time_scale#Dating_of_time_scales) is a great reference."
   ]
  },
  {
   "cell_type": "markdown",
   "metadata": {},
   "source": [
    "Also, Dromaeosauridae has a wider active age period, from 161.2 million years ago to 70.6 million years ago."
   ]
  },
  {
   "cell_type": "markdown",
   "metadata": {},
   "source": [
    "Are there duplicate rows within our data? We should drop them all. "
   ]
  },
  {
   "cell_type": "code",
   "execution_count": 17,
   "metadata": {},
   "outputs": [
    {
     "data": {
      "text/plain": [
       "(271, 6)"
      ]
     },
     "execution_count": 17,
     "metadata": {},
     "output_type": "execute_result"
    }
   ],
   "source": [
    "Tyrannosauridae_time = Tyrannosauridae_time.drop_duplicates(keep=False)\n",
    "Tyrannosauridae_time.shape"
   ]
  },
  {
   "cell_type": "code",
   "execution_count": 18,
   "metadata": {},
   "outputs": [
    {
     "data": {
      "text/plain": [
       "(379, 6)"
      ]
     },
     "execution_count": 18,
     "metadata": {},
     "output_type": "execute_result"
    }
   ],
   "source": [
    "Dromaeosauridae_time = Dromaeosauridae_time.drop_duplicates(keep=False)\n",
    "Dromaeosauridae_time.shape"
   ]
  },
  {
   "cell_type": "markdown",
   "metadata": {},
   "source": [
    "## This part?\n",
    "\n",
    "**Ciera**: Is this just the part you didn't finish? You were going to map their migratory patterns?\n"
   ]
  },
  {
   "cell_type": "code",
   "execution_count": 15,
   "metadata": {},
   "outputs": [],
   "source": [
    "# Sort the two data frames according to the early age of occurence.\n",
    "Dromaeosauridae_time = Dromaeosauridae_time.sort_values(by=['early_age'], ascending=False)\n",
    "Tyrannosauridae_time = Tyrannosauridae_time.sort_values(by=['early_age'], ascending=False)"
   ]
  },
  {
   "cell_type": "markdown",
   "metadata": {},
   "source": [
    "The frame_to_dictionary function helps us to transform the dataframes to dictionary, and the dictionary is composed of key and value. The key is the early age of each species. The value is a dataframe of the species with same early age. "
   ]
  },
  {
   "cell_type": "code",
   "execution_count": 19,
   "metadata": {},
   "outputs": [],
   "source": [
    "def frame_to_dictionary(data):\n",
    "    x = data.groupby('early_age')\n",
    "    tuplea = list(x)\n",
    "    desired = dict((x, y) for x, y in tuplea)\n",
    "    return desired"
   ]
  },
  {
   "cell_type": "markdown",
   "metadata": {},
   "source": [
    "Transform the Dromaeosauridae and Tyrannosauridae to dictionaries as described"
   ]
  },
  {
   "cell_type": "code",
   "execution_count": 17,
   "metadata": {},
   "outputs": [],
   "source": [
    "grouped_Dromaeosauridae = frame_to_dictionary(Dromaeosauridae_time)\n",
    "grouped_Tyrannosauridae = frame_to_dictionary(Tyrannosauridae_time)"
   ]
  },
  {
   "cell_type": "markdown",
   "metadata": {},
   "source": [
    "Export each dictionaries to csv files so that we can get time based species categories so we can visualize the immigrations two species overtime with the pbdb map function."
   ]
  },
  {
   "cell_type": "code",
   "execution_count": 18,
   "metadata": {},
   "outputs": [],
   "source": [
    "a = 0\n",
    "while a < len(list(grouped_Dromaeosauridae.keys())):\n",
    "    key = list(grouped_Dromaeosauridae.keys())[a]\n",
    "    x = str(key) + 'Dromaeosauridae'\n",
    "    df = pd.DataFrame(grouped_Dromaeosauridae[list(grouped_Dromaeosauridae.keys())[a]])\n",
    "    df.to_csv('../data/output/Dromaeosauridae/' + x +'.csv')\n",
    "    a += 1"
   ]
  },
  {
   "cell_type": "code",
   "execution_count": 19,
   "metadata": {},
   "outputs": [],
   "source": [
    "a = 0\n",
    "while a < len(list(grouped_Tyrannosauridae.keys())):\n",
    "    key = list(grouped_Tyrannosauridae.keys())[a]\n",
    "    x = str(key) + 'Tyrannosauridae'\n",
    "    df = pd.DataFrame(grouped_Tyrannosauridae[list(grouped_Tyrannosauridae.keys())[a]])\n",
    "    df.to_csv('../data/output/Tyrannosauridae/' + x +'.csv')\n",
    "    a += 1"
   ]
  },
  {
   "cell_type": "markdown",
   "metadata": {},
   "source": [
    "If you see the cell below prints 'Done!' after clicking run all, it means the whole notebook is running with no bug, congratulations on me!"
   ]
  },
  {
   "cell_type": "code",
   "execution_count": 20,
   "metadata": {},
   "outputs": [
    {
     "name": "stdout",
     "output_type": "stream",
     "text": [
      "Done!\n"
     ]
    }
   ],
   "source": [
    "print('Done!')"
   ]
  }
 ],
 "metadata": {
  "kernelspec": {
   "display_name": "Python 3",
   "language": "python",
   "name": "python3"
  },
  "language_info": {
   "codemirror_mode": {
    "name": "ipython",
    "version": 3
   },
   "file_extension": ".py",
   "mimetype": "text/x-python",
   "name": "python",
   "nbconvert_exporter": "python",
   "pygments_lexer": "ipython3",
   "version": "3.6.6"
  }
 },
 "nbformat": 4,
 "nbformat_minor": 2
}
